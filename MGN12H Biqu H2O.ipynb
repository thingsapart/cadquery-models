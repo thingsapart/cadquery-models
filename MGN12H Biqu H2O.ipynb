{
 "cells": [
  {
   "cell_type": "code",
   "execution_count": 1,
   "id": "6ce50c75-3344-4e15-aceb-40050e6e39d9",
   "metadata": {},
   "outputs": [
    {
     "name": "stdout",
     "output_type": "stream",
     "text": [
      "Overwriting auto display for cadquery Workplane and Shape\n"
     ]
    }
   ],
   "source": [
    "import cadquery as cq\n",
    "from jupyter_cadquery import set_defaults, set_sidecar, open_viewer, PartGroup, Part\n",
    "from jupyter_cadquery.viewer.client import show, show_object\n",
    "\n",
    "from types import SimpleNamespace as d\n",
    "\n",
    "from collections.abc import Iterable\n",
    "import types, copy\n",
    "\n",
    "class WPPart(Part):\n",
    "    def __init__(self, wp, cq_obj, *args, **kwargs):\n",
    "        self.wp = wp\n",
    "        super().__init__(cq_obj, *args, **kwargs)\n",
    "\n",
    "    def __getattr__(self, attr):\n",
    "        return getattr(self.wp, attr)\n",
    "    \n",
    "    def __hasattr__(self, attr):\n",
    "        if attr == 'objects': return False\n",
    "        return hasattr(self.cq_shape, attr)\n",
    "\n",
    "class ProxyMethodWrapper:\n",
    "    def __init__(self, obj, func, name):\n",
    "        self.obj, self.func, self.name = obj, func, name\n",
    "\n",
    "    def __call__(self, *args, **kwds):\n",
    "        return self.obj._method_call(self.name, self.func, *args, **kwds)\n",
    "    \n",
    "class WPPartGroup(PartGroup):\n",
    "    def __init__(self, wp, cq_objs, *args, **kwargs):\n",
    "        self.wp = wp\n",
    "        super().__init__(cq_objs, *args, **kwargs)\n",
    "\n",
    "    def __getattr__(self, attr):\n",
    "        #print(\"attr: \", self, attr)\n",
    "        att = getattr(self.wp, attr)\n",
    "        if type(att) is types.MethodType:\n",
    "            return ProxyMethodWrapper(self, att, attr)\n",
    "        else:\n",
    "            return attr\n",
    "    \n",
    "    def __hasattr__(self, attr):\n",
    "        return hasattr(self.wp, attr)\n",
    "    \n",
    "    def __repr__(self):\n",
    "        return \"<__main__.WPPartGroup object at \" + str(id(self)) + \"/\" + self.name + \"/\" + repr(self.wp) + \">\"\n",
    "    \n",
    "    def do(self, elems, name=None):\n",
    "        #print(\">>>wp/do\")\n",
    "        cq_wp = get_wp(self)\n",
    "        if name is None: name = 'Group-Do' + ident(self)\n",
    "        parts = [to_part(cq_wp, elem) for elem in elems]\n",
    "        #self._append(WPPartGroup(cq_wp, [Part(self.wp.findSolid(), name = name), PartGroup(parts, name = name + ':do'), PartGroup([], 'workplane')]))\n",
    "        self._append(Part(self.wp.findSolid(), name = name))\n",
    "        return self\n",
    "\n",
    "    def do_cut(self, elems, name=None):\n",
    "        def cut_all(wp, part):\n",
    "            if isinstance(part, PartGroup):\n",
    "                return wp.cut(part.compound())\n",
    "            elif isinstance(part, Part):\n",
    "                return cut_all(wp, part.cq_shape)\n",
    "            elif isinstance(part, Iterable):\n",
    "                for p in part:\n",
    "                    wp = wp.cut(p)\n",
    "                return wp\n",
    "            elif isinstance(part, cq.Workplane):\n",
    "                return wp.cut(part.findSolid())\n",
    "            else:\n",
    "                return wp.cut(part)\n",
    "        if name is None: name = 'Group-Cut' + ident(self)\n",
    "        cq_wp = get_wp(self)\n",
    "        parts = [to_part(cq_wp, elem, color = '#707070', show_faces = False) for elem in elems]\n",
    "        wp = cq_wp.findSolid()\n",
    "        for p in parts:\n",
    "            wp = cut_all(wp, p)\n",
    "        #self._append(WPPartGroup(cq_wp.newObject([wp]), [Part(wp, name = name), PartGroup(parts, name + ':do_cut'), PartGroup([], 'workplane')]))\n",
    "        return self\n",
    "\n",
    "    def _append(self, o):\n",
    "        self.objects[-1].objects.append(o)\n",
    "\n",
    "    def _method_call(self, name, func, *args, **kwargs):\n",
    "        #print(\"call: \", self, name, args, kwargs)\n",
    "        res = func(*args, **kwargs)\n",
    "        self.wp = get_wp(func(*args, **kwargs))\n",
    "        self._append(Part(self.wp, name + ident(self.wp)))\n",
    "        return self\n",
    "\n",
    "\n",
    "def new_wp(self):\n",
    "    def copy_attrs(fro, to, attrs):\n",
    "        for att in attrs:\n",
    "            setattr(to, att, copy.copy(getattr(fro, att)))\n",
    "    \n",
    "    wp = self.workplane()\n",
    "    wp.parent = None\n",
    "    wp.ctx = cq.cq.CQContext()\n",
    "    copy_attrs(self.ctx, wp.ctx, ['pendingWires', 'pendingEdges', 'firstPoint', 'tolerance', 'tags'])\n",
    "    wp._tag = None\n",
    "    return wp\n",
    "\n",
    "def get_wp(wp_like):\n",
    "    #print(\"gwp\", wp_like)\n",
    "    return wp_like.wp if isinstance(wp_like, PartGroup) else wp_like\n",
    "\n",
    "def ident(o):\n",
    "    return '-' + str(id(o))[-5:]\n",
    "\n",
    "def to_part(wp, val, **kwargs):\n",
    "    def make_unpacked(fn, name):\n",
    "        o = fn(new_wp(wp))\n",
    "        if isinstance(o, PartGroup):\n",
    "            if len(o.objects) == 1: return o.objects[0]\n",
    "            if name: o.name = name\n",
    "            return o\n",
    "        elif isinstance(o, Part):\n",
    "            if name: o.name = name\n",
    "            return o\n",
    "        else:\n",
    "            kwargs['name'] = name\n",
    "            return Part(o, **kwargs)\n",
    "\n",
    "    if isinstance(val, Iterable):\n",
    "        return make_unpacked(val[0], val[1])\n",
    "    return make_unpacked(val, getattr(val, 'name') if hasattr(val, 'name') else (val.__class__.__name__ + ident(val)))\n",
    "\n",
    "def _workplane_do(self, elems, name=None):\n",
    "    #print(\">>>do\")\n",
    "    cq_wp = self\n",
    "    if name is None: name = 'Group-Do' + ident(self)\n",
    "    parts = [to_part(cq_wp, elem) for elem in elems]\n",
    "    #print('not pg1', self)\n",
    "    #return cq_wp.union(cq.Workplane([p.cq_shape for p in parts]))\n",
    "    for to_union in [p.cq_shape for p in parts]:\n",
    "        cq_wp = cq_wp.union(to_union)\n",
    "    return cq_wp\n",
    "\n",
    "def _workplane_do_cut(self, elems, name=None):\n",
    "    if name is None: name = 'Group-Cut' + ident(self)\n",
    "    cq_wp = self\n",
    "    parts = [to_part(cq_wp, elem, color = '#707070', show_faces = False) for elem in elems]\n",
    "    #print('not pg2', self)\n",
    "    for to_cut in [p.cq_shape for p in parts]:\n",
    "        cq_wp = cq_wp.cut(to_cut)\n",
    "    return cq_wp\n",
    "    \n",
    "def _workplane_show_tree(self, name='root'):\n",
    "    return WPPartGroup(self, [Part(self), PartGroup([], 'workplane')])\n",
    "\n",
    "cq.Workplane.do = _workplane_do\n",
    "cq.Workplane.do_cut = _workplane_do_cut\n",
    "cq.Workplane.show_tree = _workplane_show_tree\n",
    "\n",
    "#cq.Workplane().box(10, 10, 10).faces(\">X\").do_cut([\n",
    "#    ((lambda wp: wp.box(2,2,2)), 'box')]).faces(\"<X\").do_cut([((lambda wp: wp.box(2,2,2)), 'box')])"
   ]
  },
  {
   "cell_type": "code",
   "execution_count": 2,
   "id": "aa752c32-a81a-4fdf-8fa2-6077bf417f9b",
   "metadata": {},
   "outputs": [
    {
     "name": "stdout",
     "output_type": "stream",
     "text": [
      " \n"
     ]
    },
    {
     "data": {
      "application/vnd.jupyter.widget-view+json": {
       "model_id": "eaebd815ca4b4e1ba590feb9436f83ac",
       "version_major": 2,
       "version_minor": 0
      },
      "text/plain": [
       "CadViewerWidget(anchor=None, cad_width=800, height=600, pinning=False, theme='light', title=None, tree_width=2…"
      ]
     },
     "metadata": {},
     "output_type": "display_data"
    },
    {
     "data": {
      "text/html": [
       "<div></div>"
      ],
      "text/plain": [
       "<IPython.core.display.HTML object>"
      ]
     },
     "metadata": {},
     "output_type": "display_data"
    }
   ],
   "source": [
    "cq.Workplane().box(10, 10, 10).faces(\">Z\").do_cut([\n",
    "    (lambda wp: wp.box(5, 5, 5), 'cut'),\n",
    "    (lambda wp: wp.box(2, 2, 8), 'cut1')\n",
    "]).faces(\">Z\").fillet(1).faces(\"<Z\").chamfer(1).do([\n",
    "    (lambda wp: wp.box(2, 2, 8), 'add2')\n",
    "])"
   ]
  },
  {
   "cell_type": "code",
   "execution_count": null,
   "id": "01af5bee-8e11-4409-b7a1-e56da418e142",
   "metadata": {},
   "outputs": [
    {
     "name": "stdout",
     "output_type": "stream",
     "text": [
      " \n"
     ]
    },
    {
     "data": {
      "application/vnd.jupyter.widget-view+json": {
       "model_id": "92c85134cb6741c088fc167914a72bfa",
       "version_major": 2,
       "version_minor": 0
      },
      "text/plain": [
       "CadViewerWidget(anchor=None, cad_width=800, height=600, pinning=False, theme='light', title=None, tree_width=2…"
      ]
     },
     "metadata": {},
     "output_type": "display_data"
    },
    {
     "data": {
      "text/html": [
       "<div></div>"
      ],
      "text/plain": [
       "<IPython.core.display.HTML object>"
      ]
     },
     "metadata": {},
     "output_type": "display_data"
    }
   ],
   "source": [
    "def gt2_belt(l, w, oversize = 0.0):\n",
    "    # veeery approximately a 2GT/GT2 belt.\n",
    "    def make(wp):\n",
    "        h, p, tooth_h, tooth_r = 1.38 + oversize, 2.0, 0.75 - oversize, 0.555 + 2 * oversize\n",
    "        belt_h = h - tooth_h\n",
    "        def make1(sketch, pos):\n",
    "            x, y = pos\n",
    "            x1 = x + (p - 2 * tooth_r) / 2\n",
    "            x2 = x1 + 2 * tooth_r\n",
    "            return (sketch\n",
    "                    .segment( (x, y), (x, y + belt_h) ).segment( (x1, belt_h) ).segment( (x1, h - tooth_r) )\n",
    "                    .arc( (x1, h - tooth_r), (x1 + tooth_r, h), (x2, h - tooth_r) )\n",
    "                    .segment( (x2, belt_h) ).segment( (x + p, belt_h) ).segment( (x + p, y) ).close().assemble().finalize().extrude(w)\n",
    "                   )\n",
    "        profile = make1(wp.sketch(), (0, 0))\n",
    "        res = profile\n",
    "        for i in range(int(l / p) - 1):\n",
    "            res = res.union(profile.translate( (p * (i + 1), 0, 0) ))\n",
    "        return res\n",
    "    return make\n",
    "\n",
    "belt_d = d(w = 1.35 + 0.4, h = 6.0)\n",
    "\n",
    "gt2_belt = gt2_belt(20, belt_d.h, oversize = 0.07)(cq.Workplane())\n",
    "\n",
    "gt2_belt"
   ]
  },
  {
   "cell_type": "code",
   "execution_count": 3,
   "id": "044ad1b4-7688-4194-946d-b18775259d46",
   "metadata": {},
   "outputs": [],
   "source": [
    "not_centered = { 'centered': (False, False, False) }\n",
    "\n",
    "def make_points(base_point, extents, offsets):\n",
    "    return map(lambda p: (base_point[0] + p[0] * extents[0], base_point[1] + p[1] * extents[1]), offsets)\n",
    "\n",
    "not_centered = { 'centered': (False, False, False) }\n",
    "\n",
    "def make_points(base_point, extents, offsets):\n",
    "    return map(lambda p: (base_point[0] + p[0] * extents[0], base_point[1] + p[1] * extents[1]), offsets)\n",
    "\n",
    "stepper_35_d = d(w = 36, h = 36, l = 22.0, bolt_dd = 26, bolt_inset = 4.25, bolt_D = 6.2, conn = d(h = 16.5, w = 10.0, l = 7.0))\n",
    "mgn12h_d = d(hole_dx = 3.5, hole_D = 2.5 + 0.5, w = 27.0, l = 45.4, bolt_dd = 20.0)\n",
    "mount_d = d(mot = stepper_35_d,\n",
    "            l = 36.5,\n",
    "            l_tot = 36.5,\n",
    "            bolt_dl = 24.5,\n",
    "            bolt_dd = 15.0,\n",
    "            bolt_D = 2.6,\n",
    "            th_top = 2.0,\n",
    "            th_bot = 3.5,\n",
    "            th = 2.0,\n",
    "            th_sides_extra = 4.0,\n",
    "            mgn12_hole_inset = 1.0,\n",
    "            fila_cog_l = 5.0,\n",
    "            fila_cog_w = 20.0,\n",
    "            fila_lever_top_l = 20.0,\n",
    "            nozzle_bottom_w = 14.0,\n",
    "            heat_sert_top_back_offs = 12.0,\n",
    "           )\n",
    "M2_5_screw_csk_d = d(D = 2.5 + 0.4, D_top = 5.0 + 0.2, csk_angle = 82)\n",
    "M3_screw_csk_d = d(D = 3.0 * 1.2, D_top = 5.7 * 1.2, csk_angle = 82)\n",
    "belt_d = d(w = 1.35 + 0.4, h = 6.0)\n",
    "heat_sert_d = d(D_sm = 3.9, l = 3.0, D_lg = 5.0)\n",
    "\n",
    "rail_top_to_carriage_bot = 16.5\n",
    "\n",
    "#belt_attachment_d = d(th = 3.5, l = 9.8, lower_dz = 15.0 - rail_top_to_carriage_bot, higher_dz = 7.0 - rail_top_to_carriage_bot, belt = belt_d)\n",
    "#belt_attachment_front_d = d(th = 3.5, l = 6.0, lower_dz = 15.0 - rail_top_to_carriage_bot, higher_dz = 7.0 - rail_top_to_carriage_bot, belt = belt_d)\n",
    "\n",
    "belt_attachment_d = d(th = 3.5, l = 9.8, lower_dz = 16.5 - rail_top_to_carriage_bot, higher_dz = 8.5 - rail_top_to_carriage_bot, belt = belt_d)\n",
    "belt_attachment_front_d = d(th = 3.5, l = 6.0, lower_dz = 16.5 - rail_top_to_carriage_bot, higher_dz = 8.5 - rail_top_to_carriage_bot, belt = belt_d)\n",
    "def belt_mount_dz(belt_mount_d):\n",
    "    return 3 * belt_mount_d.belt.w + 2 * belt_mount_d.th"
   ]
  },
  {
   "cell_type": "code",
   "execution_count": 4,
   "id": "81384696-36ef-41a8-81e4-1d94e1823d70",
   "metadata": {},
   "outputs": [],
   "source": [
    "def _workplane_centerBetween(self, direction=\"x\"):\n",
    "    if self.size() < 2: raise ValueError('Expecting two values on the stack')\n",
    "    edges = getattr(self.item(0).val().Center(), direction), getattr(self.item(1).val().Center(), direction)\n",
    "    newCenter = self.plane.origin\n",
    "    setattr(newCenter, direction, edges[1] + (edges[0] - edges[1]) / 2.0)\n",
    "    return self.newObject([newCenter])\n",
    "\n",
    "cq.Workplane.centerBetween = _workplane_centerBetween\n",
    "\n",
    "def belt_mount(belt_attachment_d, mount_d):\n",
    "    def belt_mount_make(wp):\n",
    "        b = belt_attachment_d\n",
    "        m = mount_d\n",
    "        w = m.mot.w + 2* m.th\n",
    "\n",
    "        l_h, r_h = 12 - b.higher_dz, 20 - b.lower_dz\n",
    "        b_w = 2 * b.th\n",
    "        m_w = 2 * m.th\n",
    "\n",
    "        #a_z = 3 * b.belt.w + 2 * b.th\n",
    "        a_z = belt_mount_dz(b)\n",
    "        belt_cut_z = 1.5 * b.belt.w\n",
    "        belt_h = 1.1 * b.belt.h\n",
    "\n",
    "        lower_dz, higher_dz = b.lower_dz - b.belt.h / 2 - 2 * b.th, b.higher_dz - b.belt.h / 2 - 2 * b.th\n",
    "\n",
    "        part = (\n",
    "            wp.moveTo(0, m.th_bot).sketch()\n",
    "                .segment( (0, -lower_dz), (0, -m.th_bot - b.l) ).segment( (-m.th, -m.th_bot - b.l) ).segment( (-m.th, -m.th_bot) )\n",
    "                .segment( (-w + m.th, -m.th_bot) )\n",
    "                .segment( (-w + m.th, -m.th_bot - b.l) ).segment( (-w, -m.th_bot - b.l) ).segment( (-w, -higher_dz) )\n",
    "                .segment( (-w + b_w, -higher_dz) ).segment( (-w + b_w, 0) ).segment( (-b_w, 0) ).segment( (-b_w, -lower_dz))\n",
    "                .close().assemble().finalize().extrude(a_z)\n",
    "                .faces(\"<Y\").edges(\">Z\").chamfer(min([a_z, b.l]))\n",
    "                .faces(\">Y or <Y[1]\").edges(\"|Z\").fillet(2)\n",
    "                .faces(\">Z\").tag('Z1').do_cut([\n",
    "                    ((lambda wp: wp.faces(tag='Z1').edges('<X or <<X[7]').centerBetween().move(0,-b.higher_dz + belt_h / 2).circle(heat_sert_d.D_sm / 2).extrude(-a_z / 2)), 'belt_slot_r'),\n",
    "                    ((lambda wp: wp.faces(tag='Z1').edges('>X or <<X[5]').centerBetween().move(0, -b.lower_dz + b.belt.h / 2).circle(heat_sert_d.D_sm / 2).extrude(-a_z / 2)), 'belt_slot_l'),\n",
    "                ])\n",
    "                .faces(\"<X\").do_cut([\n",
    "                    ((lambda wp: wp.moveTo(b.higher_dz -1.25 * b.belt.h / 2, a_z / 2).rect(1.25 * b.belt.h, belt_cut_z).extrude(-b_w)))#.workplane(offset = m.mot.w / 2).moveTo(-b.lower_dz, a_z / 2).rect(1.5 * b.belt.h, 2 * belt_cut_z).cutBlind(-2 * b.th)), 'belt_slot_r')\n",
    "                ])\n",
    "                .faces(\">X\").do_cut([\n",
    "                    ((lambda wp: wp.moveTo(-b.lower_dz + 1.1 * b.belt.h / 2, a_z / 2).rect(1.1 * b.belt.h, belt_cut_z).extrude(-b_w-5)))#.workplane(offset = m.mot.w / 2).moveTo(-b.lower_dz, a_z / 2).rect(1.5 * b.belt.h, 2 * belt_cut_z).cutBlind(-2 * b.th)), 'belt_slot_r')\n",
    "                ])\n",
    "        )\n",
    "        return part.mirror(mirrorPlane=\"YZ\", basePointVector=(0, 0, 0)).translate( (w, 0, 0) ).mirror(mirrorPlane=\"YZ\", basePointVector=(0, 0, 0)).translate( (w, 0, 0) )\n",
    "    return belt_mount_make\n",
    "\n",
    "def belt_mount_front(belt_attachment_d, mount_d):\n",
    "    b = belt_attachment_d\n",
    "    m = mount_d\n",
    "    w = m.mot.w + 2* m.th\n",
    "    def belt_mount_make(wp):\n",
    "        return belt_mount(belt_attachment_d, mount_d)(wp.workplane(offset=-3)).mirror(mirrorPlane=\"XY\", basePointVector=(0, 0, 0)).mirror(mirrorPlane=\"YZ\", basePointVector=(0, 0, 0)).translate( (w, 0, mount_d.l) )\n",
    "    return belt_mount_make\n",
    "\n",
    "#belt_mount(belt_attachment_d, mount_d)(cq.Workplane())"
   ]
  },
  {
   "cell_type": "code",
   "execution_count": 29,
   "id": "689382b5-9749-4b88-a531-600112c0ad7f",
   "metadata": {},
   "outputs": [
    {
     "name": "stdout",
     "output_type": "stream",
     "text": [
      "  \n"
     ]
    },
    {
     "data": {
      "application/vnd.jupyter.widget-view+json": {
       "model_id": "5366a68396914ed081325e2159876f65",
       "version_major": 2,
       "version_minor": 0
      },
      "text/plain": [
       "CadViewerWidget(anchor=None, cad_width=800, height=600, pinning=False, theme='light', title=None, tree_width=2…"
      ]
     },
     "metadata": {},
     "output_type": "display_data"
    },
    {
     "data": {
      "text/html": [
       "<div></div>"
      ],
      "text/plain": [
       "<IPython.core.display.HTML object>"
      ]
     },
     "metadata": {},
     "output_type": "display_data"
    }
   ],
   "source": [
    "def make_mount(mount = mount_d, rail_mount_fasteners = M3_screw_csk_d, rail_top_to_carriage_bot = rail_top_to_carriage_bot, rail = mgn12h_d, belt = belt_d):\n",
    "    m = mount\n",
    "    w, h = m.mot.w + 2* m.th, m.mot.h + m.th_top + m.th_bot\n",
    "    rail_mount_pts = make_points( (w / 2 - rail.bolt_dd / 2, -rail.hole_dx - m.mgn12_hole_inset), (rail.bolt_dd, rail.bolt_dd), [ (0, 0), (1, 0), (0, -1), (1, -1) ])        \n",
    "\n",
    "    return  (\n",
    "        cq.Workplane().box(w, h, m.l, **not_centered)\n",
    "            .faces(\">Z\").workplane().moveTo(w/2, h/2 + ( m.th_top - m.th_bot)/2).rect(m.mot.w, m.mot.h).cutThruAll().edges(\"|Z\").chamfer(2)\n",
    "            .faces(\"<X\").workplane().moveTo(-m.th_top - (m.mot.h - m.bolt_dd) / 2, -(m.l - m.bolt_dl)).cboreHole(m.bolt_D, 2 * m.bolt_D, m.th / 4, m.th + 1)\n",
    "                                    .moveTo(-m.th_top - (m.mot.h - m.bolt_dd) / 2 - m.bolt_dd, -(m.l - m.bolt_dl)).cboreHole(m.bolt_D, 2 * m.bolt_D, m.th / 4, m.th + 1)\n",
    "                                    # motor wire cut-out right:\n",
    "                                    # .moveTo(-m.th_top - (m.mot.h) / 2, -(m.l - m.mot.conn.w / 2)).rect(m.mot.conn.h, m.mot.conn.w).cutBlind(-m.mot.conn.l)\n",
    "            .faces(\">X\").workplane().moveTo( m.th_top + (m.mot.h - m.bolt_dd) / 2, -(m.l - m.bolt_dl)).cboreHole(m.bolt_D, 2 * m.bolt_D, m.th / 4, m.th + 1)\n",
    "                                    .moveTo( m.th_top + (m.mot.h - m.bolt_dd) / 2 + m.bolt_dd, -(m.l - m.bolt_dl)).cboreHole(m.bolt_D, 2 * m.bolt_D, m.th / 4, m.th + 1)\n",
    "                                    # motor wire cut-out left:\n",
    "                                    .moveTo( m.th_top + (m.mot.h) / 2, -(m.l - m.mot.conn.w / 2)).rect(m.mot.conn.h, m.mot.conn.w).cutBlind(-m.mot.conn.l)\n",
    "            .faces(\">Y[1]\").workplane().pushPoints(make_points( (w / 2 - rail.bolt_dd / 2, -rail.hole_dx - m.mgn12_hole_inset), (rail.bolt_dd, rail.bolt_dd), [ (0, 0), (1, 0), (0, -1), (1, -1) ])).circle(rail_mount_fasteners.D / 2 + 0.5).cutBlind(-m.th_top)\n",
    "            .faces(\">Y[4]\").tag('top-2').workplane().pushPoints( make_points( (- w / 2 - rail.bolt_dd / 2, -rail.hole_dx - m.mgn12_hole_inset), (rail.bolt_dd, rail.bolt_dd), [ (0, 0), (1, 0), (0, -1), (1, -1) ])).cskHole(rail_mount_fasteners.D, rail_mount_fasteners.D_top, rail_mount_fasteners.csk_angle, m.th_bot)\n",
    "                .faces(\">X\").workplane()\n",
    "                                    # fila advance cog cut-out:\n",
    "                                    .moveTo( m.th_top -(m.mot.h) / 2, -m.fila_cog_l / 2).rect(m.fila_cog_w, m.fila_cog_l).cutBlind(-m.mot.conn.l)\n",
    "            .faces(\">Y\").tag('top').end()\n",
    "            .faces(\"<Y\").do_cut([\n",
    "                # Nozzle bottom cutout.\n",
    "                (lambda wp: wp.moveTo(-w / 2, -1).slot2D(m.nozzle_bottom_w, 10).extrude(-m.th_top)),\n",
    "            ])\n",
    "            .faces(\">Z\").do([\n",
    "                (belt_mount(belt_attachment_front_d, mount_d), 'belt_mount_front'),\n",
    "                (belt_mount_front(belt_attachment_d, mount_d), 'belt_mount_rear')\n",
    "            ], '>Z')\n",
    "            .faces(tag='top').do_cut([\n",
    "                # Cutout for filament lever.\n",
    "                (lambda wp: wp.moveTo(w -  m.fila_lever_top_l / 2 - 2 * belt_attachment_d.th , 8).rect(m.fila_lever_top_l, 16).extrude(-m.th_bot)),\n",
    "                # Top back heatserts.\n",
    "                #(lambda wp: wp.moveTo(w / 2 - m.heat_sert_top_back_offs / 2 - m.th, -m.l - 2 * belt_attachment_d.belt.w).lineTo(w / 2  + m.heat_sert_top_back_offs / 2 - m.th, -m.l - 2 * belt_attachment_d.belt.w).vertices().circle(heat_sert_d.D_sm / 2).extrude(-m.th_bot)),\n",
    "            ])\n",
    "            # \"Thicken\" sides.\n",
    "            .faces(\"<X\").wires().toPending().extrude(-m.th_sides_extra)\n",
    "            .faces(\">X\").wires().toPending().extrude(m.th_sides_extra)\n",
    "            # Cut rear belt slot.\n",
    "            .faces(tag='top-2').workplane().do_cut([\n",
    "                (lambda wp: wp.center(-w + 2*belt_attachment_d.th + 1.5 * belt_attachment_d.belt.w, -m.l - belt_attachment_d.belt.h).rect(-3*belt_attachment_d.belt.w, belt_attachment_d.belt.h + 2).extrude(-m.th_bot)),\n",
    "            ])\n",
    "            .faces(tag='top-2').workplane().moveTo(-(w / 2 - m.heat_sert_top_back_offs / 2 - m.th), -m.l - 2 * belt_attachment_d.belt.w).lineTo(-(w / 2  + m.heat_sert_top_back_offs / 2 - m.th), -m.l - 2 * belt_attachment_d.belt.w).vertices().cskHole(rail_mount_fasteners.D, rail_mount_fasteners.D_top, rail_mount_fasteners.csk_angle, m.th_bot)\n",
    "\n",
    "    )\n",
    "\n",
    "tooldoard_d = d(hole_offs_x = 45.0, offs_z = 25.0, th = 3.0)\n",
    "\n",
    "def toolboard_mount(tooldoard = tooldoard_d, mount = mount_d, rail_mount_fasteners = M3_screw_csk_d, rail_top_to_carriage_bot = rail_top_to_carriage_bot, rail = mgn12h_d, belt = belt_d):\n",
    "    m = mount\n",
    "    tb = tooldoard_d\n",
    "    \n",
    "    w, h = m.mot.w + 2* m.th, m.mot.h + m.th_top + m.th_bot\n",
    "    ww = w - (w / 2 - m.heat_sert_top_back_offs / 2 - m.th) - 2 * belt_attachment_d.th\n",
    "    hh = belt_mount_dz(belt_attachment_d)\n",
    "    ll = tb.hole_offs_x + 10\n",
    "\n",
    "    return (\n",
    "        cq.Workplane(\"XZ\").workplane(offset=-h).center((w / 2 - m.heat_sert_top_back_offs / 2 - m.th), -m.l - 2 * belt_attachment_d.belt.w + m.l/2)\n",
    "            .box(ww , hh, heat_sert_d.l, **not_centered)\n",
    "            # holes \n",
    "            .moveTo(rail_mount_fasteners.D + 1, hh/2).lineTo(rail_mount_fasteners.D + 1 + w/2 - m.heat_sert_top_back_offs / 2 - m.th, hh/2).vertices().circle(heat_sert_d.D_sm / 2).cutBlind(heat_sert_d.l)\n",
    "            .faces(\">Y\").center(ww, 0).workplane().rect(8, tb.th, centered=(False, False)).workplane(offset=tb.offs_z).rect(ww, tb.th, centered=(False, False)).loft()\n",
    "            .faces(\">Y[-2]\").edges(\">X[2]\").fillet(3)\n",
    "            .faces(\">Y\").edges(\"<X\").workplane().rect(ll, w / 2, centered=(False, False)).extrude(tb.th).faces(\">Y[-2]\").edges(\">X[2]\").fillet(6).edges(\"|Y\").fillet(2)\n",
    "            .faces(\">Y\").edges(\"<X\").workplane().moveTo(tb.hole_offs_x, w/4).circle(heat_sert_d.D_sm/2).cutBlind(-tb.th)\n",
    "        )\n",
    "mount = make_mount()\n",
    "toolboard = toolboard_mount()\n",
    "\n",
    "PartGroup([Part(mount), Part(toolboard)])"
   ]
  },
  {
   "cell_type": "code",
   "execution_count": 16,
   "id": "36ccc99b-9876-4e73-9983-f483089ef8a8",
   "metadata": {},
   "outputs": [],
   "source": [
    "from cadquery import exporters\n",
    "\n",
    "exporters.export(mount, 'biqu_h2o_mg12h_mount_v3_full.stl')"
   ]
  },
  {
   "cell_type": "code",
   "execution_count": null,
   "id": "c1ed06d5-1348-4344-95f3-1f9e40f9f213",
   "metadata": {},
   "outputs": [],
   "source": []
  },
  {
   "cell_type": "code",
   "execution_count": 117,
   "id": "45056030-6f78-476a-ae60-9eaa947e9c5a",
   "metadata": {},
   "outputs": [
    {
     "name": "stdout",
     "output_type": "stream",
     "text": [
      " \n"
     ]
    },
    {
     "data": {
      "application/vnd.jupyter.widget-view+json": {
       "model_id": "95c878ba3941455d990a6069209221ca",
       "version_major": 2,
       "version_minor": 0
      },
      "text/plain": [
       "CadViewerWidget(anchor=None, cad_width=800, height=600, pinning=False, theme='light', title=None, tree_width=2…"
      ]
     },
     "metadata": {},
     "output_type": "display_data"
    },
    {
     "data": {
      "text/html": [
       "<div></div>"
      ],
      "text/plain": [
       "<IPython.core.display.HTML object>"
      ]
     },
     "metadata": {},
     "output_type": "display_data"
    }
   ],
   "source": [
    "import cadquery as cq\n",
    "from jupyter_cadquery import set_defaults, set_sidecar\n",
    "\n",
    "from types import SimpleNamespace as d\n",
    "from jupyter_cadquery.viewer.client import show, show_object\n",
    "\n",
    "not_centered = { 'centered': (False, False, False) }\n",
    "\n",
    "# tringular_section_d = d(w = 13.3, l = 13.3, th_bot = 2.75, h_rect = 4, h = 11.45, hole_D = 3.2, hole_edge_dh = 6.31, hole_center_dh = 8.0, w_top = 7.8, th_side_r = 2.1, th_side_l = 1.5)\n",
    "# lever_d = d(w = 4.6, l = 28.0, h = 8.5, hole_D = 4.7, hole_dl = 1.5)\n",
    "\n",
    "# Adjusted to my printer/filament's dimensions.\n",
    "tringular_section_d = d(w = 13.3, l = 13.3, th_bot = 2.75, h_rect = 4, h = 11.45, hole_D = 3.5, hole_edge_dh = 6.31, hole_center_dh = 8.0, w_top = 7.8, th_side_r = 2.1, th_side_l = 1.5)\n",
    "lever_d = d(w = 5.1, l = 34.0, h = 8.5, hole_D = 4.95, hole_dl = 1.5, spring_retainer = d(i_D = 4.0, o_D = 7.0, d = 1.0))\n",
    "\n",
    "t = tringular_section_d\n",
    "l = lever_d\n",
    "\n",
    "lever_triangular = (\n",
    "    cq.Workplane(\"YZ\")\n",
    "                    .sketch()\n",
    "                        .segment( (0, 0), (t.w, 0) ).segment( (t.w, t.h_rect) ).segment( (t.w / 2 + t.w_top / 2, t.hole_center_dh) ).arc((t.w / 2, t.hole_center_dh), t.w_top / 2, 0., 360).segment( (t.w / 2 - t.w_top / 2, t.hole_center_dh) ).segment( (0, t.h_rect) ).close().hull()\n",
    "                        .push( [(t.w / 2, t.hole_center_dh)] ).circle(t.hole_D / 2, mode = 's').finalize()\n",
    "                    .extrude(t.l)\n",
    "                    .faces(\"<Y\").workplane().moveTo((t.th_side_r - t.th_side_l) / 2 + t.w / 2, t.h/2 + t.th_bot).rect(t.w - t.th_side_r - t.th_side_l, t.h).cutThruAll()\n",
    ")\n",
    "face = lever_triangular.faces(\"<Y\").tag('joint')\n",
    "lever_triangular = lever_triangular.workplaneFromTagged('joint').moveTo(l.w/2, l.h/2).rect(l.w, l.h).workplane(offset=l.l).moveTo(l.w/2, l.h/2).rect(l.w, l.h/2).loft()\n",
    "lever_triangular = lever_triangular.workplaneFromTagged('joint').moveTo(t.th_side_r/2, l.h/2).rect(t.th_side_r, l.h).extrude(-t.hole_center_dh/2).faces(\"<Y[1]\").edges(\"<X\").fillet(1.5)\n",
    "lever_triangular = lever_triangular.workplaneFromTagged('joint').transformed(rotate=(0, 90, 0), offset=(0, l.h/2, l.hole_D/2 + l.hole_dl)).circle(l.hole_D/2).cutBlind(l.w)\n",
    "lever_triangular = lever_triangular.faces(\"<Y\").fillet(2)\n",
    "lever_triangular = lever_triangular.faces(\"<Z\").do_cut([ (lambda wp: wp.moveTo(l.spring_retainer.o_D / 2 + 3, -l.l / 2 + l.spring_retainer.o_D / 2 + 1.5).circle(l.spring_retainer.i_D / 2).circle(l.spring_retainer.o_D / 2).extrude(-l.spring_retainer.d)) ])\n",
    "lever_triangular"
   ]
  },
  {
   "cell_type": "code",
   "execution_count": 53,
   "id": "3361ce8c-ef07-4c1b-9ce1-02b55ee3a523",
   "metadata": {},
   "outputs": [],
   "source": [
    "from cadquery import exporters\n",
    "\n",
    "exporters.export(lever_triangular, 'biqu_h2o_lever_slim.stl')"
   ]
  },
  {
   "cell_type": "code",
   "execution_count": null,
   "id": "aff3eb3f-6d20-4456-b413-e7a358075c23",
   "metadata": {},
   "outputs": [],
   "source": []
  },
  {
   "cell_type": "code",
   "execution_count": 346,
   "id": "7a4f4c76-d696-4e08-9692-eaa5a3a88288",
   "metadata": {},
   "outputs": [
    {
     "name": "stdout",
     "output_type": "stream",
     "text": [
      " \n"
     ]
    },
    {
     "data": {
      "application/vnd.jupyter.widget-view+json": {
       "model_id": "c8c8cd28b58749fcbd42bfb941c47e7e",
       "version_major": 2,
       "version_minor": 0
      },
      "text/plain": [
       "CadViewerWidget(anchor=None, cad_width=800, height=600, pinning=False, theme='light', title=None, tree_width=2…"
      ]
     },
     "metadata": {},
     "output_type": "display_data"
    },
    {
     "data": {
      "text/html": [
       "<div></div>"
      ],
      "text/plain": [
       "<IPython.core.display.HTML object>"
      ]
     },
     "metadata": {},
     "output_type": "display_data"
    }
   ],
   "source": [
    "# Schmidt X/Y Proto PCB mount.\n",
    "\n",
    "#pcb_d = d(l = 62.0, w = 23.5, rail_hole2hole = 50.0, pcb_hole_D = 5.0, screw_hole_D = 3.0, l_from_hole_ctr = 45.5, w_from_hole_ctr = 22.0, th = 2.0, l_supp = 20, d = 1.95)\n",
    "\n",
    "def pcb_mount1(pcb = pcb_d):    \n",
    "    mount = (\n",
    "        cq.Workplane().sketch()\n",
    "            .arc((0, 0), pcb.pcb_hole_D, 90, 180).arc((0, 0), pcb.pcb_hole_D / 2, 0, 360).arc((pcb.rail_hole2hole, 0), pcb.screw_hole_D, -90, 180).arc((pcb.rail_hole2hole, 0), pcb.screw_hole_D / 2, 0, 360)\n",
    "            .segment((0, -pcb.pcb_hole_D), (pcb.rail_hole2hole, -pcb.screw_hole_D)).segment((pcb.rail_hole2hole, pcb.screw_hole_D), (0, pcb.pcb_hole_D))\n",
    "            .assemble().finalize().extrude(2)\n",
    "            .edges(\"%CIRCLE and >>X[4]\").tag('circle2').end()\n",
    "            .do([(\n",
    "                lambda wp: wp.workplane(offset=-1).moveTo(pcb.l_from_hole_ctr- pcb.l_supp / 2, pcb.w_from_hole_ctr - pcb.w).rect(pcb.l_supp, pcb.w + 2 * pcb.th, centered = (False, False)).extrude(4 + pcb.d)\n",
    "                    .faces(\">X\").workplane().moveTo(0, 2).rect(pcb.w, pcb.d, **not_centered).cutBlind(-pcb.l_supp).moveTo(0, 2 + pcb.d).rect(pcb.w - 2, 2, **not_centered).cutBlind(-pcb.l_supp)\n",
    "            )])\n",
    "            .workplaneFromTagged('circle2').moveTo(pcb.rail_hole2hole, 0).circle(pcb.screw_hole_D / 2).cutBlind(pcb.th)\n",
    "            .workplaneFromTagged('circle2').circle(pcb.pcb_hole_D / 2).circle(pcb.screw_hole_D / 2).extrude(pcb.th + 1.5 * pcb.d).mirror(mirrorPlane=\"YZ\", basePointVector=(0, 0, 0))\n",
    "    )\n",
    "    return mount\n",
    "\n",
    "pcb_d = d(l = 62.0, w = 24.5, rail_hole2hole = 50.0, pcb_hole_D = 5.0 - 0.05, screw_hole_D = 3.0 + 0.1, main_w = 7.0, l_from_hole_ctr = 45.5, w_from_hole_ctr = 22.0, th = 2.0, l_supp = 20, d = 2.3, conn_h = 4.0,\n",
    "          offset = d(x = 5.5, y = 2 * 5.0 - 2.0, y_bot = 11.9), plug_45_pcb_hole_offs = d(x = 5.0, y = 3.0))\n",
    "\n",
    "def pcb_mount(pcb = pcb_d):\n",
    "    hole_D_2 = pcb.pcb_hole_D / 2\n",
    "    mount = (\n",
    "        cq.Workplane().sketch()\n",
    "            .arc((0, 0), pcb.main_w / 2, 90, 180).arc((0, 0), pcb.screw_hole_D / 2, 0, 360).arc((pcb.rail_hole2hole, 0), pcb.main_w / 2, -90, 180).arc((pcb.rail_hole2hole, 0), pcb.screw_hole_D / 2, 0, 360)\n",
    "            .segment((0, -pcb.main_w / 2), (pcb.rail_hole2hole, -pcb.main_w / 2)).segment((pcb.rail_hole2hole, pcb.main_w / 2), (0, pcb.main_w / 2))\n",
    "            .assemble().finalize().extrude(pcb.conn_h)\n",
    "            .edges(\"%CIRCLE and >>X[4]\").tag('circle2').end()\n",
    "            .faces(\">Z\").edges('not %CIRCLE').chamfer(1.8).workplane(centerOption='CenterOfBoundBox')\n",
    "            .do([(\n",
    "                lambda wp: wp.workplane(offset=-pcb.conn_h / 2).center(-pcb.rail_hole2hole / 2, 0)\n",
    "                            # Narrow rapezoid extension with peg for PCB.\n",
    "                            .moveTo(0, - hole_D_2).sketch().segment( (0, 0,), (pcb.offset.x - hole_D_2, -pcb.offset.y + hole_D_2) ).segment( (pcb.offset.x + hole_D_2, -pcb.offset.y + hole_D_2) ).segment( (2 * pcb.offset.x, 0) ).close().assemble().finalize().extrude(pcb.conn_h - 1)\n",
    "                            .moveTo(pcb.offset.x, -pcb.offset.y).circle(pcb.pcb_hole_D / 2).circle(pcb.screw_hole_D / 2).extrude(pcb.conn_h + 1.5 * pcb.d)\n",
    "                            .moveTo(pcb.offset.x, -pcb.offset.y).circle(pcb.screw_hole_D / 2).cutThruAll()\n",
    "                            # Small cutout for endstop soldered header.\n",
    "                            #.do_cut([( lambda wp: (lambda x, y, offs: wp.workplane(offset = -1).moveTo(x, y).rect(4, 4).extrude(-4).rotate( (x, y, 0), (x, y, 1), 45)) (x = pcb.offset.x + hole_D_2 + pcb.plug_45_pcb_hole_offs.x, y = -pcb.offset.y + hole_D_2 + pcb.plug_45_pcb_hole_offs.y, offs = pcb.plug_45_pcb_hole_offs) )])\n",
    "                            # Wide trapezoid with edge.\n",
    "                            .moveTo(pcb.rail_hole2hole - pcb.screw_hole_D, pcb.pcb_hole_D / 2).sketch().segment( (0, -pcb.main_w/2), (-10, pcb.offset.y_bot + pcb.th / 2) ).segment( (-30, pcb.offset.y_bot + pcb.th / 2) ).segment( (-40, -pcb.main_w/2) ).close().assemble().finalize().extrude(pcb.conn_h)\n",
    "                            .moveTo(pcb.rail_hole2hole - pcb.screw_hole_D, pcb.pcb_hole_D / 2 +  pcb.offset.y_bot).sketch().segment( (-10, 0), (-10, pcb.th / 2) ).segment( (-30, pcb.th / 2) ).segment( (-30, 0) ).close().assemble().finalize().extrude(pcb.conn_h + pcb.th)\n",
    "                            .faces(\">Y\").edges(\"<Z\").chamfer(3)\n",
    "            )])\n",
    "            #.do([(\n",
    "            #    lambda wp: wp.workplane(offset=-1).moveTo(pcb.l_from_hole_ctr- pcb.l_supp / 2, pcb.w_from_hole_ctr - pcb.w).rect(pcb.l_supp, pcb.w + 2 * pcb.th, centered = (False, False)).extrude(4 + pcb.d)\n",
    "            #        .faces(\">X\").workplane().moveTo(0, 2).rect(pcb.w, pcb.d, **not_centered).cutBlind(-pcb.l_supp).moveTo(0, 2 + pcb.d).rect(pcb.w - 2, 2, **not_centered).cutBlind(-pcb.l_supp)\n",
    "            #)])\n",
    "            .workplaneFromTagged('circle2').moveTo(pcb.rail_hole2hole, 0).circle(pcb.screw_hole_D / 2).cutBlind(pcb.conn_h)\n",
    "            \n",
    "    )\n",
    "    return mount\n",
    "\n",
    "pcb_mount = pcb_mount()\n",
    "\n",
    "pcb_mount"
   ]
  },
  {
   "cell_type": "code",
   "execution_count": 347,
   "id": "c038455f-22ad-4d30-a90f-c44d6577e2b7",
   "metadata": {},
   "outputs": [],
   "source": [
    "from cadquery import exporters\n",
    "\n",
    "exporters.export(pcb_mount, 'sapphire_plus_pcb_xy_mount.stl')"
   ]
  },
  {
   "cell_type": "code",
   "execution_count": null,
   "id": "220f38e1-12bb-43a4-8e4a-232b8b880ec9",
   "metadata": {},
   "outputs": [],
   "source": []
  }
 ],
 "metadata": {
  "kernelspec": {
   "display_name": "Python 3 (ipykernel)",
   "language": "python",
   "name": "python3"
  },
  "language_info": {
   "codemirror_mode": {
    "name": "ipython",
    "version": 3
   },
   "file_extension": ".py",
   "mimetype": "text/x-python",
   "name": "python",
   "nbconvert_exporter": "python",
   "pygments_lexer": "ipython3",
   "version": "3.9.7"
  }
 },
 "nbformat": 4,
 "nbformat_minor": 5
}
