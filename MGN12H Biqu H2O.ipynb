{
 "cells": [
  {
   "cell_type": "code",
   "execution_count": 581,
   "id": "6ce50c75-3344-4e15-aceb-40050e6e39d9",
   "metadata": {},
   "outputs": [],
   "source": [
    "import cadquery as cq\n",
    "from jupyter_cadquery import set_defaults, set_sidecar, open_viewer, PartGroup, Part\n",
    "from jupyter_cadquery.viewer.client import show, show_object\n",
    "\n",
    "from types import SimpleNamespace as d\n",
    "\n",
    "from collections.abc import Iterable\n",
    "import types, copy\n",
    "\n",
    "class WPPart(Part):\n",
    "    def __init__(self, wp, cq_obj, *args, **kwargs):\n",
    "        self.wp = wp\n",
    "        super().__init__(cq_obj, *args, **kwargs)\n",
    "\n",
    "    def __getattr__(self, attr):\n",
    "        return getattr(self.wp, attr)\n",
    "    \n",
    "    def __hasattr__(self, attr):\n",
    "        if attr == 'objects': return False\n",
    "        return hasattr(self.cq_shape, attr)\n",
    "\n",
    "class ProxyMethodWrapper:\n",
    "    def __init__(self, obj, func, name):\n",
    "        self.obj, self.func, self.name = obj, func, name\n",
    "\n",
    "    def __call__(self, *args, **kwds):\n",
    "        return self.obj._method_call(self.name, self.func, *args, **kwds)\n",
    "    \n",
    "class WPPartGroup(PartGroup):\n",
    "    def __init__(self, wp, cq_objs, *args, **kwargs):\n",
    "        self.wp = wp\n",
    "        super().__init__(cq_objs, *args, **kwargs)\n",
    "\n",
    "    def __getattr__(self, attr):\n",
    "        att = getattr(self.wp, attr)\n",
    "        if type(att) is types.MethodType:\n",
    "            return ProxyMethodWrapper(self, att, attr)\n",
    "        else:\n",
    "            return attr\n",
    "    \n",
    "    def __hasattr__(self, attr):\n",
    "        return hasattr(self.wp, attr)\n",
    "    \n",
    "    def do(self, elems, name=None):\n",
    "        res = self.wp.do(elems, name)\n",
    "        self.objects.append(res)\n",
    "        return self\n",
    "\n",
    "    def do_cut(self, elems, name=None):\n",
    "        res = self.wp.do_cut(elems, name)\n",
    "        self.objects.append(res)\n",
    "        return self\n",
    "\n",
    "    def _method_call(self, name, func, *args, **kwargs):\n",
    "        res = func(*args, **kwargs)\n",
    "        self.wp = get_wp(func(*args, **kwargs))\n",
    "        self.objects[-1].objects.append(Part(self.wp, name + ident(self.wp)))\n",
    "        return self\n",
    "\n",
    "\n",
    "def new_wp(self):\n",
    "    def copy_attrs(fro, to, attrs):\n",
    "        for att in attrs:\n",
    "            setattr(to, att, copy.copy(getattr(fro, att)))\n",
    "    \n",
    "    wp = self.workplane()\n",
    "    wp.parent = None\n",
    "    wp.ctx = cq.cq.CQContext()\n",
    "    copy_attrs(self.ctx, wp.ctx, ['pendingWires', 'pendingEdges', 'firstPoint', 'tolerance', 'tags'])\n",
    "    wp._tag = None\n",
    "    return wp\n",
    "\n",
    "def get_wp(wp_like):\n",
    "    return wp_like if isinstance(wp_like, cq.Workplane) else wp_like.wp\n",
    "\n",
    "def ident(o):\n",
    "    return '-' + str(id(o))[-5:]\n",
    "\n",
    "def to_part(wp, val, **kwargs):\n",
    "    def make_unpacked(fn, name):\n",
    "        o = fn(new_wp(wp))\n",
    "        if isinstance(o, PartGroup):\n",
    "            if len(o.objects) == 1: return o.objects[0]\n",
    "            if name: o.name = name\n",
    "            return o\n",
    "        elif isinstance(o, Part):\n",
    "            if name: o.name = name\n",
    "            return o\n",
    "        else:\n",
    "            kwargs['name'] = name\n",
    "            return Part(o, **kwargs)\n",
    "\n",
    "    if isinstance(val, Iterable):\n",
    "        return make_unpacked(val[0], val[1])\n",
    "    return make_unpacked(val, getattr(val, 'name') if hasattr(val, 'name') else (val.__class__.__name__ + ident(val)))\n",
    "\n",
    "def _workplane_do(self, elems, name=None):\n",
    "    #cq_wp = self.wp if hasattr(self, 'wp') else self\n",
    "    cq_wp = get_wp(self)\n",
    "    if name is None: name = 'Group' + ident(self)\n",
    "    return WPPartGroup(cq_wp, [Part(self.findSolid(), name = name), PartGroup([to_part(cq_wp, elem) for elem in elems], name = name + ':do')])\n",
    "    #return PartGroup([Part(self.findSolid(), name = name), PartGroup([to_part(cq_wp, elem) for elem in elems], name = name + ':do')])\n",
    "\n",
    "def _workplane_do_cut(self, elems, name=None):\n",
    "    def cut_all(wp, part):\n",
    "        if isinstance(part, PartGroup):\n",
    "            return wp.cut(part.compound())\n",
    "        elif isinstance(part, Part):\n",
    "            return cut_all(wp, part.cq_shape)\n",
    "        elif isinstance(part, Iterable):\n",
    "            for p in part:\n",
    "                wp = wp.cut(p)\n",
    "            return wp\n",
    "        elif isinstance(part, cq.Workplane):\n",
    "            return wp.cut(part.findSolid())\n",
    "        else:\n",
    "            return wp.cut(part)\n",
    "\n",
    "    if name is None: name = 'Group' + ident(self)\n",
    "    cq_wp = self if isinstance(self, cq.Workplane) else self.wp\n",
    "    parts = [to_part(cq_wp, elem, color = '#707070', show_faces = False) for elem in elems]\n",
    "    wp = cq_wp.findSolid()\n",
    "    for p in parts:\n",
    "        wp = cut_all(wp, p)\n",
    "    return WPPartGroup(cq_wp.newObject([wp]), [Part(wp, name = name), PartGroup(parts, name + ':do_cut'), PartGroup([], 'workplane')])\n",
    "    #return PartGroup([Part(wp, name = name), PartGroup(parts, name + ':do_cut')])\n",
    "\n",
    "cq.Workplane.do = _workplane_do\n",
    "cq.Workplane.do_cut = _workplane_do_cut"
   ]
  },
  {
   "cell_type": "code",
   "execution_count": 582,
   "id": "aa752c32-a81a-4fdf-8fa2-6077bf417f9b",
   "metadata": {},
   "outputs": [
    {
     "name": "stdout",
     "output_type": "stream",
     "text": [
      "         \n"
     ]
    },
    {
     "data": {
      "application/vnd.jupyter.widget-view+json": {
       "model_id": "c8d49feb2768455e9beb7095c85a74e7",
       "version_major": 2,
       "version_minor": 0
      },
      "text/plain": [
       "CadViewerWidget(anchor=None, cad_width=800, height=600, pinning=False, theme='light', title=None, tree_width=2…"
      ]
     },
     "metadata": {},
     "output_type": "display_data"
    },
    {
     "data": {
      "text/html": [
       "<div></div>"
      ],
      "text/plain": [
       "<IPython.core.display.HTML object>"
      ]
     },
     "metadata": {},
     "output_type": "display_data"
    }
   ],
   "source": [
    "cq.Workplane().box(10, 10, 10).faces(\">Z\").do_cut([\n",
    "    (lambda wp: wp.box(5, 5, 5), 'cut'),\n",
    "    (lambda wp: wp.box(2, 2, 8), 'cut1')\n",
    "]).faces(\">Z\").fillet(1).faces(\"<Z\").chamfer(1).do([\n",
    "    (lambda wp: wp.box(2, 2, 8), 'add2')\n",
    "])"
   ]
  },
  {
   "cell_type": "code",
   "execution_count": 292,
   "id": "01af5bee-8e11-4409-b7a1-e56da418e142",
   "metadata": {},
   "outputs": [
    {
     "name": "stdout",
     "output_type": "stream",
     "text": [
      " \n"
     ]
    },
    {
     "data": {
      "application/vnd.jupyter.widget-view+json": {
       "model_id": "17d3a6e34c954ed7a4dbf030f01e2531",
       "version_major": 2,
       "version_minor": 0
      },
      "text/plain": [
       "CadViewerWidget(anchor=None, cad_width=800, height=600, pinning=False, theme='light', title=None, tree_width=2…"
      ]
     },
     "metadata": {},
     "output_type": "display_data"
    },
    {
     "data": {
      "text/html": [
       "<div></div>"
      ],
      "text/plain": [
       "<IPython.core.display.HTML object>"
      ]
     },
     "metadata": {},
     "output_type": "display_data"
    }
   ],
   "source": [
    "def gt2_belt(l, w, oversize = 0.0):\n",
    "    # veeery approximately a 2GT/GT2 belt.\n",
    "    def make(wp):\n",
    "        h, p, tooth_h, tooth_r = 1.38 + oversize, 2.0, 0.75 - oversize, 0.555 + 2 * oversize\n",
    "        belt_h = h - tooth_h\n",
    "        def make1(sketch, pos):\n",
    "            x, y = pos\n",
    "            x1 = x + (p - 2 * tooth_r) / 2\n",
    "            x2 = x1 + 2 * tooth_r\n",
    "            return (sketch\n",
    "                    .segment( (x, y), (x, y + belt_h) ).segment( (x1, belt_h) ).segment( (x1, h - tooth_r) )\n",
    "                    .arc( (x1, h - tooth_r), (x1 + tooth_r, h), (x2, h - tooth_r) )\n",
    "                    .segment( (x2, belt_h) ).segment( (x + p, belt_h) ).segment( (x + p, y) ).close().assemble().finalize().extrude(w)\n",
    "                   )\n",
    "        profile = make1(wp.sketch(), (0, 0))\n",
    "        res = profile\n",
    "        for i in range(int(l / p) - 1):\n",
    "            res = res.union(profile.translate( (p * (i + 1), 0, 0) ))\n",
    "        return res\n",
    "    return make\n",
    "\n",
    "belt_d = d(w = 1.35 + 0.4, h = 6.0)\n",
    "\n",
    "gt2_belt = gt2_belt(20, belt_d.h, oversize = 0.07)(cq.Workplane())\n",
    "\n",
    "gt2_belt"
   ]
  },
  {
   "cell_type": "code",
   "execution_count": 339,
   "id": "044ad1b4-7688-4194-946d-b18775259d46",
   "metadata": {},
   "outputs": [],
   "source": [
    "not_centered = { 'centered': (False, False, False) }\n",
    "\n",
    "def make_points(base_point, extents, offsets):\n",
    "    return map(lambda p: (base_point[0] + p[0] * extents[0], base_point[1] + p[1] * extents[1]), offsets)\n",
    "\n",
    "not_centered = { 'centered': (False, False, False) }\n",
    "\n",
    "def make_points(base_point, extents, offsets):\n",
    "    return map(lambda p: (base_point[0] + p[0] * extents[0], base_point[1] + p[1] * extents[1]), offsets)\n",
    "\n",
    "stepper_35_d = d(w = 36, h = 36, l = 22.0, bolt_dd = 26, bolt_inset = 4.25, bolt_D = 6.2, conn = d(h = 16.5, w = 10.0, l = 7.0))\n",
    "mgn12h_d = d(hole_dx = 3.5, hole_D = 2.5 + 0.5, w = 27.0, l = 45.4, bolt_dd = 20.0)\n",
    "mount_d = d(mot = stepper_35_d,\n",
    "            l = 36.5,\n",
    "            l_tot = 36.5,\n",
    "            bolt_dl = 24.5,\n",
    "            bolt_dd = 15.0,\n",
    "            bolt_D = 2.6,\n",
    "            th_top = 2.0,\n",
    "            th_bot = 3.5,\n",
    "            th = 2.0,\n",
    "            mgn12_hole_inset = 1.0,\n",
    "            fila_cog_l = 5.0,\n",
    "            fila_cog_w = 20.0)\n",
    "M2_5_screw_csk_d = d(D = 2.5 + 0.4, D_top = 5.0 + 0.2, csk_angle = 82)\n",
    "M3_screw_csk_d = d(D = 3.0 * 1.2, D_top = 5.7 * 1.2, csk_angle = 82)\n",
    "belt_d = d(w = 1.35 + 0.4, h = 6.0)\n",
    "heat_sert_d = d(D_sm = 3.9, l = 3.0, D_lg = 5.0)\n",
    "\n",
    "rail_top_to_carriage_bot = 16.5\n",
    "\n",
    "belt_attachment_d = d(th = 3.5, l = 9.8, lower_dz = 15.0 - rail_top_to_carriage_bot, higher_dz = 7.0 - rail_top_to_carriage_bot, belt = belt_d)\n",
    "belt_attachment_front_d = d(th = 3.5, l = 6.0, lower_dz = 15.0 - rail_top_to_carriage_bot, higher_dz = 7.0 - rail_top_to_carriage_bot, belt = belt_d)"
   ]
  },
  {
   "cell_type": "code",
   "execution_count": 583,
   "id": "81384696-36ef-41a8-81e4-1d94e1823d70",
   "metadata": {},
   "outputs": [
    {
     "name": "stdout",
     "output_type": "stream",
     "text": [
      "ct1 Vector: (0.0, 0.0, 12.25)\n",
      "ct2 Vector: (-36.5, 0.0, 12.25)\n",
      "ct1 Vector: (0.0, 0.0, 12.25)\n",
      "ct2 Vector: (-3.5, 0.0, 12.25)\n",
      "     \n"
     ]
    },
    {
     "data": {
      "application/vnd.jupyter.widget-view+json": {
       "model_id": "5a44da0d25a44f89befdd6e0750042b7",
       "version_major": 2,
       "version_minor": 0
      },
      "text/plain": [
       "CadViewerWidget(anchor=None, cad_width=800, height=600, pinning=False, theme='light', title=None, tree_width=2…"
      ]
     },
     "metadata": {},
     "output_type": "display_data"
    },
    {
     "data": {
      "text/html": [
       "<div></div>"
      ],
      "text/plain": [
       "<IPython.core.display.HTML object>"
      ]
     },
     "metadata": {},
     "output_type": "display_data"
    }
   ],
   "source": [
    "def _workplane_centerBetween(self, direction=\"x\"):\n",
    "    if self.size() < 2: raise ValueError('Expecting two values on the stack')\n",
    "    edges = getattr(self.item(0).val().Center(), direction), getattr(self.item(1).val().Center(), direction)\n",
    "    newCenter = self.plane.origin\n",
    "    print('ct1', newCenter)\n",
    "    setattr(newCenter, direction, edges[1] + (edges[0] - edges[1]) / 2.0)\n",
    "    print('ct2', newCenter)\n",
    "    return self.newObject([newCenter])\n",
    "\n",
    "cq.Workplane.centerBetween = _workplane_centerBetween\n",
    "\n",
    "def belt_mount(belt_attachment_d, mount_d):\n",
    "    def belt_mount_make(wp):\n",
    "        b = belt_attachment_d\n",
    "        m = mount_d\n",
    "        w = m.mot.w + 2* m.th\n",
    "\n",
    "        l_h, r_h = 12 - b.higher_dz, 20 - b.lower_dz\n",
    "        b_w = 2 * b.th\n",
    "        m_w = 2 * m.th\n",
    "\n",
    "        a_z = 3 * b.belt.w + 2 * b.th\n",
    "        belt_cut_z = 1.5 * b.belt.w\n",
    "\n",
    "        lower_dz, higher_dz = b.lower_dz - b.belt.h / 2 - 2 * b.th, b.higher_dz - b.belt.h / 2 - 2 * b.th\n",
    "\n",
    "        part = (\n",
    "            wp.moveTo(0, m.th_bot).sketch()\n",
    "                .segment( (0, -lower_dz), (0, -m.th_bot - b.l) ).segment( (-m.th, -m.th_bot - b.l) ).segment( (-m.th, -m.th_bot) )\n",
    "                .segment( (-w + m.th, -m.th_bot) )\n",
    "                .segment( (-w + m.th, -m.th_bot - b.l) ).segment( (-w, -m.th_bot - b.l) ).segment( (-w, -higher_dz) )\n",
    "                .segment( (-w + b_w, -higher_dz) ).segment( (-w + b_w, 0) ).segment( (-b_w, 0) ).segment( (-b_w, -lower_dz))\n",
    "                .close().assemble().finalize().extrude(a_z)\n",
    "                .faces(\"<Y\").edges(\">Z\").chamfer(min([a_z, b.l]))\n",
    "                .faces(\">Y or <Y[1]\").edges(\"|Z\").fillet(2)\n",
    "                .faces(\">Z\").tag('Z1').do_cut([\n",
    "                    ((lambda wp: wp.faces(tag='Z1').edges('<X or <<X[7]').centerBetween().move(0,-higher_dz - b.belt.h / 2).circle(heat_sert_d.D_sm / 2).extrude(-heat_sert_d.l)), 'belt_slot_r'),\n",
    "                    ((lambda wp: wp.faces(tag='Z1').edges('>X or <<X[5]').centerBetween().move(0, -lower_dz - b.belt.h / 2).circle(heat_sert_d.D_sm / 2).extrude(-heat_sert_d.l)), 'belt_slot_l'),\n",
    "                ])\n",
    "                .do_cut([\n",
    "                    ((lambda wp: wp.moveTo(-b.lower_dz, a_z / 2).rect(1.5 * b.belt.h, belt_cut_z).extrude(b_w)))#.workplane(offset = m.mot.w / 2).moveTo(-b.lower_dz, a_z / 2).rect(1.5 * b.belt.h, 2 * belt_cut_z).cutBlind(-2 * b.th)), 'belt_slot_r')\n",
    "                ])\n",
    "        )\n",
    "        return part\n",
    "    return belt_mount_make\n",
    "\n",
    "belt_mount(belt_attachment_front_d, mount_d)(cq.Workplane())"
   ]
  },
  {
   "cell_type": "code",
   "execution_count": 134,
   "id": "fd903701-313d-4395-af02-ea76075bd745",
   "metadata": {},
   "outputs": [
    {
     "name": "stdout",
     "output_type": "stream",
     "text": [
      "  \n"
     ]
    },
    {
     "data": {
      "application/vnd.jupyter.widget-view+json": {
       "model_id": "a39534b9f12441c7a4479e794aecbd44",
       "version_major": 2,
       "version_minor": 0
      },
      "text/plain": [
       "CadViewerWidget(anchor=None, cad_width=800, height=600, pinning=False, theme='light', title=None, tree_width=2…"
      ]
     },
     "metadata": {},
     "output_type": "display_data"
    },
    {
     "data": {
      "text/html": [
       "<div></div>"
      ],
      "text/plain": [
       "<IPython.core.display.HTML object>"
      ]
     },
     "metadata": {},
     "output_type": "display_data"
    }
   ],
   "source": [
    "def mount(mount = mount_d, rail_mount_fasteners = M3_screw_csk_d, rail_top_to_carriage_bot = rail_top_to_carriage_bot, rail = mgn12h_d, belt = belt_d):\n",
    "    m = mount\n",
    "    w, h = m.mot.w + 2* m.th, m.mot.h + m.th_top + m.th_bot\n",
    "    rail_mount_pts = make_points( (w / 2 - rail.bolt_dd / 2, -rail.hole_dx - m.mgn12_hole_inset), (rail.bolt_dd, rail.bolt_dd), [ (0, 0), (1, 0), (0, -1), (1, -1) ])        \n",
    "    \n",
    "    def boxx(wp):\n",
    "        return wp.box(10, 10, 10)\n",
    "\n",
    "    return  (\n",
    "        cq.Workplane().box(w, h, m.l, **not_centered)\n",
    "            .faces(\">Z\").workplane().moveTo(w/2, h/2 + ( m.th_top - m.th_bot)/2).rect(m.mot.w, m.mot.h).cutThruAll().edges(\"|Z\").chamfer(2)\n",
    "            .faces(\"<X\").workplane().moveTo(-m.th_top - (m.mot.h - m.bolt_dd) / 2, -(m.l - m.bolt_dl)).cboreHole(m.bolt_D, 2 * m.bolt_D, m.th / 4, m.th + 1)\n",
    "                                    .moveTo(-m.th_top - (m.mot.h - m.bolt_dd) / 2 - m.bolt_dd, -(m.l - m.bolt_dl)).cboreHole(m.bolt_D, 2 * m.bolt_D, m.th / 4, m.th + 1)\n",
    "                                    # motor wire cut-out right:\n",
    "                                    # .moveTo(-m.th_top - (m.mot.h) / 2, -(m.l - m.mot.conn.w / 2)).rect(m.mot.conn.h, m.mot.conn.w).cutBlind(-m.mot.conn.l)\n",
    "            .faces(\">X\").workplane().moveTo( m.th_top + (m.mot.h - m.bolt_dd) / 2, -(m.l - m.bolt_dl)).cboreHole(m.bolt_D, 2 * m.bolt_D, m.th / 4, m.th + 1)\n",
    "                                    .moveTo( m.th_top + (m.mot.h - m.bolt_dd) / 2 + m.bolt_dd, -(m.l - m.bolt_dl)).cboreHole(m.bolt_D, 2 * m.bolt_D, m.th / 4, m.th + 1)\n",
    "                                    # motor wire cut-out left:\n",
    "                                    .moveTo( m.th_top + (m.mot.h) / 2, -(m.l - m.mot.conn.w / 2)).rect(m.mot.conn.h, m.mot.conn.w).cutBlind(-m.mot.conn.l)\n",
    "            .faces(\">Y[1]\").workplane().pushPoints(make_points( (w / 2 - rail.bolt_dd / 2, -rail.hole_dx - m.mgn12_hole_inset), (rail.bolt_dd, rail.bolt_dd), [ (0, 0), (1, 0), (0, -1), (1, -1) ])).circle(rail_mount_fasteners.D / 2 + 1.5).cutBlind(-m.th_top)\n",
    "            .faces(\">Y[4]\").workplane().pushPoints( make_points( (- w / 2 - rail.bolt_dd / 2, -rail.hole_dx - m.mgn12_hole_inset), (rail.bolt_dd, rail.bolt_dd), [ (0, 0), (1, 0), (0, -1), (1, -1) ])).cskHole(rail_mount_fasteners.D, rail_mount_fasteners.D_top, rail_mount_fasteners.csk_angle, m.th_bot)\n",
    "            .faces(\">X\").workplane()\n",
    "                                    # fila advance cog cut-out:\n",
    "                                    .moveTo( m.th_top -(m.mot.h) / 2, -m.fila_cog_l / 2).rect(m.fila_cog_w, m.fila_cog_l).cutBlind(-m.mot.conn.l)\n",
    "            #.faces(\">Z\").do([\n",
    "            #    (belt_mount(belt_attachment_front_d, mount_d), 'belt_mount_front')\n",
    "            #], '>Z')\n",
    "    )\n",
    "    \n",
    "mount()"
   ]
  },
  {
   "cell_type": "code",
   "execution_count": null,
   "id": "730a1c04-d2ba-4b6c-9bc8-c9b955c169cc",
   "metadata": {},
   "outputs": [],
   "source": [
    "import cadquery as cq\n",
    "from jupyter_cadquery import set_defaults, set_sidecar\n",
    "\n",
    "from types import SimpleNamespace as d\n",
    "from jupyter_cadquery.viewer.client import show, show_object\n",
    "\n",
    "not_centered = { 'centered': (False, False, False) }\n",
    "\n",
    "def make_points(base_point, extents, offsets):\n",
    "    return map(lambda p: (base_point[0] + p[0] * extents[0], base_point[1] + p[1] * extents[1]), offsets)\n",
    "\n",
    "stepper_35_d = d(w = 36, h = 36, l = 22.0, bolt_dd = 26, bolt_inset = 4.25, bolt_D = 6.2, conn = d(h = 16.5, w = 10.0, l = 7.0))\n",
    "mgn12h = d(hole_dx = 3.5, hole_D = 2.5 + 0.5, w = 27.0, l = 45.4, bolt_dd = 20.0)\n",
    "mount_d = d(mot = stepper_35_d,\n",
    "            l = 36.5,\n",
    "            l_tot = 36.5,\n",
    "            bolt_dl = 24.5,\n",
    "            bolt_dd = 15.0,\n",
    "            bolt_D = 2.6,\n",
    "            th_top = 2.0,\n",
    "            th_bot = 3.5,\n",
    "            th = 2.0,\n",
    "            mgn12_hold_inset = 1.0,\n",
    "            fila_cog_l = 5.0,\n",
    "            fila_cog_w = 20.0)\n",
    "m2_5 = d(D = 2.5 + 0.4, D_top = 5.0 + 0.2, csk_angle = 82)\n",
    "m3 = d(D = 3.0 * 1.2, D_top = 5.7 * 1.2, csk_angle = 82)\n",
    "belt = d(w = 1.35 + 0.4, h = 6.0)\n",
    "\n",
    "rail_top_to_carriage_bot = 16.5\n",
    "\n",
    "m = mount_d\n",
    "\n",
    "w, h = m.mot.w + 2* m.th, m.mot.h + m.th_top + m.th_bot\n",
    "top_holes = make_points( (w / 2 - mgn12h.bolt_dd / 2, -mgn12h.hole_dx - m.mgn12_hold_inset), (mgn12h.bolt_dd, mgn12h.bolt_dd), [ (0, 0), (1, 0), (0, -1), (1, -1) ])\n",
    "\n",
    "mount = (\n",
    "    cq.Workplane().box(w, h, m.l, **not_centered)\n",
    "        .faces(\">Z\").workplane().moveTo(w/2, h/2 + ( m.th_top - m.th_bot)/2).rect(m.mot.w, m.mot.h).cutThruAll().edges(\"|Z\").chamfer(2)\n",
    "        .faces(\"<X\").workplane().moveTo(-m.th_top - (m.mot.h - m.bolt_dd) / 2, -(m.l - m.bolt_dl)).cboreHole(m.bolt_D, 2 * m.bolt_D, m.th / 4, m.th + 1)\n",
    "                                .moveTo(-m.th_top - (m.mot.h - m.bolt_dd) / 2 - m.bolt_dd, -(m.l - m.bolt_dl)).cboreHole(m.bolt_D, 2 * m.bolt_D, m.th / 4, m.th + 1)\n",
    "                                # motor wire cut-out right: \n",
    "                                # .moveTo(-m.th_top - (m.mot.h) / 2, -(m.l - m.mot.conn.w / 2)).rect(m.mot.conn.h, m.mot.conn.w).cutBlind(-m.mot.conn.l)\n",
    "        .faces(\">X\").workplane().moveTo( m.th_top + (m.mot.h - m.bolt_dd) / 2, -(m.l - m.bolt_dl)).cboreHole(m.bolt_D, 2 * m.bolt_D, m.th / 4, m.th + 1)\n",
    "                                .moveTo( m.th_top + (m.mot.h - m.bolt_dd) / 2 + m.bolt_dd, -(m.l - m.bolt_dl)).cboreHole(m.bolt_D, 2 * m.bolt_D, m.th / 4, m.th + 1)\n",
    "                                # motor wire cut-out left: \n",
    "                                .moveTo( m.th_top + (m.mot.h) / 2, -(m.l - m.mot.conn.w / 2)).rect(m.mot.conn.h, m.mot.conn.w).cutBlind(-m.mot.conn.l)\n",
    "        .faces(\">Y[1]\").workplane().pushPoints(make_points( (w / 2 - mgn12h.bolt_dd / 2, -mgn12h.hole_dx - m.mgn12_hold_inset), (mgn12h.bolt_dd, mgn12h.bolt_dd), [ (0, 0), (1, 0), (0, -1), (1, -1) ])).circle(m3.D / 2 + 1.5).cutBlind(-m.th_top)\n",
    "        .faces(\">Y[4]\").workplane().pushPoints( make_points( (- w / 2 - mgn12h.bolt_dd / 2, -mgn12h.hole_dx - m.mgn12_hold_inset), (mgn12h.bolt_dd, mgn12h.bolt_dd), [ (0, 0), (1, 0), (0, -1), (1, -1) ])).cskHole(m3.D, m3.D_top, m3.csk_angle, m.th_bot)\n",
    "        .faces(\">X\").workplane()\n",
    "                                # fila advance cog cut-out:\n",
    "                                .moveTo( m.th_top -(m.mot.h) / 2, -m.fila_cog_l / 2).rect(m.fila_cog_w, m.fila_cog_l).cutBlind(-m.mot.conn.l)\n",
    ")\n",
    "\n",
    "belt_attachment_d = d(th = 3.5, l = 9.8, lower_dz = 15.0 - rail_top_to_carriage_bot, higher_dz = 7.0 - rail_top_to_carriage_bot, belt = belt)\n",
    "belt_attachment_front_d = d(th = 3.5, l = 6.0, lower_dz = 15.0 - rail_top_to_carriage_bot, higher_dz = 7.0 - rail_top_to_carriage_bot, belt = belt)\n",
    "\n",
    "def belt_attachment(workplane, mount_d = mount_d, belt_attachment_d = belt_attachment_d, rail_d = d(), rotate = (1, 0, 0, 180)):    \n",
    "    b = belt_attachment_d\n",
    "    m = mount_d\n",
    "    w = m.mot.w + 2* m.th\n",
    "    \n",
    "    l_h, r_h = 12 - b.higher_dz, 20 - b.lower_dz\n",
    "\n",
    "\n",
    "    # belt_mounts.rear_dx is from rail (20mm wide), so convert to dy from \">Z\". End of rail coincides with center of carriage M2.5 bolt holes (both 20mm wide).\n",
    "    #b_dy = m.mgn12_hold_inset + mgn12h.bolt_dd + b.rear_dy - m.l - b.l / 2\n",
    "    \n",
    "    b_w = 2 * b.th\n",
    "    m_w = 2 * m.th\n",
    "    \n",
    "    a_z = 3 * b.belt.w + 2 * b.th\n",
    "    belt_cut_z = 1.5 * b.belt.w\n",
    "    \n",
    "    lower_dz, higher_dz = b.lower_dz - b.belt.h / 2 - 2 * b.th, b.higher_dz - b.belt.h / 2 - 2 * b.th \n",
    "    \n",
    "    attachment = (\n",
    "        workplane.workplane()\n",
    "            .sketch().segment( (0, higher_dz), (0, m.th_bot + b.l) ).segment( (m.th, m.th_bot + b.l) ).segment( (m.th, m.th_bot) )\n",
    "                     .segment( (w - m.th, m.th_bot) )\n",
    "                     .segment( (w - m.th, m.th_bot + b.l) ).segment( (w, m.th_bot + b.l) ).segment( (w, lower_dz) )\n",
    "                     .segment( (w - b_w, lower_dz) ).segment( (w - b_w, 0) ).segment( (b_w, 0) ).segment( (b_w, higher_dz))\n",
    "                .close().assemble().finalize().extrude(a_z).mirror(mirrorPlane=\"YZ\", basePointVector=(0, 0, 0))\n",
    "    )\n",
    "    attachment = attachment.rotateAboutCenter(cq.Vector(*rotate[:3]), rotate[-1])\n",
    "    return attachment\n",
    "\n",
    "\n",
    "def union_with_faces_xy(obj1, obj2, obj1_left_face, obj1_top_face, obj2_left_face, obj2_top_face, dz = 0):\n",
    "    dx = obj1_left_face.Center().x - obj2_left_face.Center().x\n",
    "    dy = obj1_top_face.Center().y - obj2_top_face.Center().y\n",
    "    print(dx, dy, obj1_top_face.Center(), obj2_top_face.Center())\n",
    "    obj2 = obj2.translate( (dx, dy, dz) )\n",
    "    return obj1.union(obj2), obj2\n",
    "\n",
    "top = mount.faces(\">Y\").val()\n",
    "left = mount.faces(\">X\").val()\n",
    "\n",
    "rear_belt = belt_attachment(cq.Workplane(\"XY\"), rotate = (1, 0, 0, 180))\n",
    "mount, _ = union_with_faces_xy(mount, rear_belt, top, left, rear_belt.faces(tag='left').val(), rear_belt.faces(tag='top').val(), dz = -8)\n",
    "\n",
    "front_belt = belt_attachment(cq.Workplane(\"XY\"), belt_attachment_d = belt_attachment_front_d, rotate = (0, 0, -1, 180))\n",
    "#mount, res = union_with_faces_xy(mount, front_belt, left, top, front_belt.faces(tag='left').val(), front_belt.faces(tag='top').val(), dz = m.l)\n",
    "\n",
    "# Cutout for filament lever.\n",
    "hh = 20\n",
    "#mount = mount.faces(\">Y[-6]\").workplane().moveTo(w -  hh / 2 - 2 * belt_attachment_d.th , 8).rect(hh, 16).cutBlind(-m.th_bot)\n",
    "\n",
    "# Nozzle bottom cutout.\n",
    "hh = 14\n",
    "#mount = mount.faces(\"<Y[-1]\").workplane().moveTo(- w / 2, -1).slot2D(hh, 10).cutBlind(-m.th_top)\n",
    "\n",
    "# Heatsert holes for PCB holder.\n",
    "heat_sert_d = d(D_sm = 3.9, l = 3.0, D_lg = 5.0)\n",
    "hh = 12\n",
    "y = -m.l - 2 * belt_attachment_d.belt.w\n",
    "#mount = mount.faces(\">Y[-6]\").workplane().moveTo(w / 2 - hh / 2 - m.th, y).lineTo(w / 2  + hh / 2 - m.th, y).vertices().circle(heat_sert_d.D_sm / 2).cutBlind(-m.th_bot)\n",
    "\n",
    "from jupyter_cadquery import PartGroup, Part\n",
    "\n",
    "PartGroup([ Part(mount, \"m\"), Part(rear_belt, 'b'), Part(rear_belt.faces(tag='base_top'), 'bt'), Part(top, 't')])"
   ]
  },
  {
   "cell_type": "code",
   "execution_count": 274,
   "id": "e697401b-1ce9-4db9-816b-9e53dd6bba0a",
   "metadata": {},
   "outputs": [],
   "source": [
    "from cadquery import exporters\n",
    "\n",
    "exporters.export(mount, 'biqu_h2o_mg12h_mount_v2.stl')"
   ]
  },
  {
   "cell_type": "code",
   "execution_count": 329,
   "id": "45056030-6f78-476a-ae60-9eaa947e9c5a",
   "metadata": {},
   "outputs": [
    {
     "name": "stdout",
     "output_type": "stream",
     "text": [
      " \n"
     ]
    }
   ],
   "source": [
    "import cadquery as cq\n",
    "from jupyter_cadquery import set_defaults, set_sidecar\n",
    "\n",
    "from types import SimpleNamespace as d\n",
    "from jupyter_cadquery.viewer.client import show, show_object\n",
    "\n",
    "not_centered = { 'centered': (False, False, False) }\n",
    "\n",
    "# tringular_section_d = d(w = 13.3, l = 13.3, th_bot = 2.75, h_rect = 4, h = 11.45, hole_D = 3.2, hole_edge_dh = 6.31, hole_center_dh = 8.0, w_top = 7.8, th_side_r = 2.1, th_side_l = 1.5)\n",
    "# lever_d = d(w = 4.6, l = 28.0, h = 8.5, hole_D = 4.7, hole_dl = 1.5)\n",
    "\n",
    "# Adjusted to my printer/filament's dimensions.\n",
    "tringular_section_d = d(w = 13.3, l = 13.3, th_bot = 2.75, h_rect = 4, h = 11.45, hole_D = 3.4, hole_edge_dh = 6.31, hole_center_dh = 8.0, w_top = 7.8, th_side_r = 2.1, th_side_l = 1.5)\n",
    "lever_d = d(w = 5.1, l = 28.0, h = 8.5, hole_D = 4.95, hole_dl = 1.5)\n",
    "\n",
    "t = tringular_section_d\n",
    "l = lever_d\n",
    "\n",
    "lever_triangular = (\n",
    "    cq.Workplane(\"YZ\")\n",
    "                    .sketch()\n",
    "                        .segment( (0, 0), (t.w, 0) ).segment( (t.w, t.h_rect) ).segment( (t.w / 2 + t.w_top / 2, t.hole_center_dh) ).arc((t.w / 2, t.hole_center_dh), t.w_top / 2, 0., 360).segment( (t.w / 2 - t.w_top / 2, t.hole_center_dh) ).segment( (0, t.h_rect) ).close().hull()\n",
    "                        .push( [(t.w / 2, t.hole_center_dh)] ).circle(t.hole_D / 2, mode = 's').finalize()\n",
    "                    .extrude(t.l)\n",
    "                    .faces(\"<Y\").workplane().moveTo((t.th_side_r - t.th_side_l) / 2 + t.w / 2, t.h/2 + t.th_bot).rect(t.w - t.th_side_r - t.th_side_l, t.h).cutThruAll()\n",
    ")\n",
    "face = lever_triangular.faces(\"<Y\").tag('joint')\n",
    "lever_triangular = lever_triangular.workplaneFromTagged('joint').moveTo(l.w/2, l.h/2).rect(l.w, l.h).workplane(offset=l.l).moveTo(l.w/2, l.h/2).rect(l.w, l.h/2).loft()\n",
    "lever_triangular = lever_triangular.workplaneFromTagged('joint').moveTo(t.th_side_r/2, l.h/2).rect(t.th_side_r, l.h).extrude(-t.hole_center_dh/2).faces(\"<Y[1]\").edges(\"<X\").fillet(1.5)\n",
    "lever_triangular = lever_triangular.workplaneFromTagged('joint').transformed(rotate=(0, 90, 0), offset=(0, l.h/2, l.hole_D/2 + l.hole_dl)).circle(l.hole_D/2).cutBlind(l.w)\n",
    "lever_triangular"
   ]
  },
  {
   "cell_type": "code",
   "execution_count": 209,
   "id": "3361ce8c-ef07-4c1b-9ce1-02b55ee3a523",
   "metadata": {},
   "outputs": [],
   "source": [
    "from cadquery import exporters\n",
    "\n",
    "exporters.export(lever_triangular, 'biqu_h2o_lever_slim.stl')"
   ]
  },
  {
   "cell_type": "code",
   "execution_count": null,
   "id": "aff3eb3f-6d20-4456-b413-e7a358075c23",
   "metadata": {},
   "outputs": [],
   "source": [
    "def old_belt_attachments(mount):\n",
    "    return (\n",
    "        mount\n",
    "            .faces(\"<Z\").workplane(offset = b_dy).moveTo(-b.th, b.higher_dz).box(b.th, l_h, b.l, **not_centered).moveTo(-w, b.lower_dz).box(b.th, r_h, b.l, **not_centered)\n",
    "            .faces(\">Z\").workplane().moveTo(-w/2, -h/2 + m.th_top/2 + m.th_bot/2).sketch().rect(m.mot.w, m.mot.h).vertices().chamfer(2).finalize().cutThruAll()\n",
    "    )\n",
    "\n",
    "def belt_attachment_o(workplane, mount_d = mount_d, belt_attachment_d = belt_attachment_d, rail_d = d(), rotate = (1, 0, 0, 180)):    \n",
    "    b = belt_attachment_d\n",
    "    m = mount_d\n",
    "    w = m.mot.w + 2* m.th\n",
    "    \n",
    "    l_h, r_h = 12 - b.higher_dz, 20 - b.lower_dz\n",
    "\n",
    "\n",
    "    # belt_mounts.rear_dx is from rail (20mm wide), so convert to dy from \">Z\". End of rail coincides with center of carriage M2.5 bolt holes (both 20mm wide).\n",
    "    #b_dy = m.mgn12_hold_inset + mgn12h.bolt_dd + b.rear_dy - m.l - b.l / 2\n",
    "    \n",
    "    m_w = 2 * m.th\n",
    "    \n",
    "    a_z = 3 * b.belt.w + 2 * b.th\n",
    "    belt_cut_z = 1.5 * b.belt.w\n",
    "    \n",
    "    lower_dz, higher_dz = b.lower_dz - b.belt.h / 2 - 2 * b.th, b.higher_dz - b.belt.h / 2 - 2 * b.th \n",
    "    \n",
    "    attachment = (\n",
    "        workplane.workplane()\n",
    "            .sketch().segment( (0, higher_dz), (0, m.th_bot + b.l) ).segment( (m.th, m.th_bot + b.l) ).segment( (m.th, m.th_bot) )\n",
    "                     .segment( (w - m.th, m.th_bot) )\n",
    "                     .segment( (w - m.th, m.th_bot + b.l) ).segment( (w, m.th_bot + b.l) ).segment( (w, lower_dz) )\n",
    "                     .segment( (w - b_w, lower_dz) ).segment( (w - b_w, 0) ).segment( (b_w, 0) ).segment( (b_w, higher_dz))\n",
    "                .close().assemble().finalize().extrude(a_z)\n",
    "                .faces(\"<X[-1] or <X[-3]\").edges(\"<Y\").fillet(b.th / 2).faces(\"<X[0] or <X[2]\").edges(\"<Y\").fillet(b.th / 2)\n",
    "                .faces(\">Y\").edges(\">Z\").chamfer(3)\n",
    "                .faces(\"<X[-1]\").workplane().moveTo(-b.higher_dz, a_z / 2).rect(1.5 * b.belt.h, belt_cut_z).cutBlind(-b_w).workplane(offset = m.mot.w / 2 - b.th).moveTo(-b.higher_dz, a_z / 2).rect(1.5 * b.belt.h, 2 * belt_cut_z).cutBlind(-2 * b.th)\n",
    "                .faces(\"<X[0]\").workplane().moveTo(-b.lower_dz, a_z / 2).rect(1.5 * b.belt.h, belt_cut_z).cutBlind(-b_w).workplane(offset = m.mot.w / 2).moveTo(-b.lower_dz, a_z / 2).rect(1.5 * b.belt.h, 2 * belt_cut_z).cutBlind(-2 * b.th)\n",
    "                .faces(\"<X[3]\").edges(\">Y\").fillet(3)\n",
    "                .faces(\"<X[-4]\").edges(\">Y\").fillet(1)\n",
    "                .mirror(mirrorPlane=\"YZ\", basePointVector=(0, 0, 0))\n",
    "    )\n",
    "    attachment = attachment.rotateAboutCenter(cq.Vector(*rotate[:3]), rotate[-1])\n",
    "    return attachment"
   ]
  }
 ],
 "metadata": {
  "kernelspec": {
   "display_name": "Python 3 (ipykernel)",
   "language": "python",
   "name": "python3"
  },
  "language_info": {
   "codemirror_mode": {
    "name": "ipython",
    "version": 3
   },
   "file_extension": ".py",
   "mimetype": "text/x-python",
   "name": "python",
   "nbconvert_exporter": "python",
   "pygments_lexer": "ipython3",
   "version": "3.9.7"
  }
 },
 "nbformat": 4,
 "nbformat_minor": 5
}
